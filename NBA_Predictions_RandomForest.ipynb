{
  "nbformat": 4,
  "nbformat_minor": 0,
  "metadata": {
    "colab": {
      "provenance": [],
      "authorship_tag": "ABX9TyPu/xkjMJxBmCbU6hergx8d",
      "include_colab_link": true
    },
    "kernelspec": {
      "name": "python3",
      "display_name": "Python 3"
    },
    "language_info": {
      "name": "python"
    }
  },
  "cells": [
    {
      "cell_type": "markdown",
      "metadata": {
        "id": "view-in-github",
        "colab_type": "text"
      },
      "source": [
        "<a href=\"https://colab.research.google.com/github/drypuddle1220/Golf_Analytics/blob/main/NBA_Predictions_RandomForest.ipynb\" target=\"_parent\"><img src=\"https://colab.research.google.com/assets/colab-badge.svg\" alt=\"Open In Colab\"/></a>"
      ]
    },
    {
      "cell_type": "code",
      "execution_count": 1,
      "metadata": {
        "colab": {
          "base_uri": "https://localhost:8080/"
        },
        "id": "qDWMsEgbphtf",
        "outputId": "a6c35094-c990-4c7b-fa63-896ab3208001"
      },
      "outputs": [
        {
          "output_type": "stream",
          "name": "stdout",
          "text": [
            "Collecting nba_api\n",
            "  Downloading nba_api-1.6.1-py3-none-any.whl.metadata (5.5 kB)\n",
            "Requirement already satisfied: numpy<2.0.0,>=1.22.2 in /usr/local/lib/python3.10/dist-packages (from nba_api) (1.26.4)\n",
            "Requirement already satisfied: requests<3.0.0,>=2.32.3 in /usr/local/lib/python3.10/dist-packages (from nba_api) (2.32.3)\n",
            "Requirement already satisfied: charset-normalizer<4,>=2 in /usr/local/lib/python3.10/dist-packages (from requests<3.0.0,>=2.32.3->nba_api) (3.4.0)\n",
            "Requirement already satisfied: idna<4,>=2.5 in /usr/local/lib/python3.10/dist-packages (from requests<3.0.0,>=2.32.3->nba_api) (3.10)\n",
            "Requirement already satisfied: urllib3<3,>=1.21.1 in /usr/local/lib/python3.10/dist-packages (from requests<3.0.0,>=2.32.3->nba_api) (2.2.3)\n",
            "Requirement already satisfied: certifi>=2017.4.17 in /usr/local/lib/python3.10/dist-packages (from requests<3.0.0,>=2.32.3->nba_api) (2024.8.30)\n",
            "Downloading nba_api-1.6.1-py3-none-any.whl (279 kB)\n",
            "\u001b[?25l   \u001b[90m━━━━━━━━━━━━━━━━━━━━━━━━━━━━━━━━━━━━━━━━\u001b[0m \u001b[32m0.0/279.4 kB\u001b[0m \u001b[31m?\u001b[0m eta \u001b[36m-:--:--\u001b[0m\r\u001b[2K   \u001b[91m━━━━━━━━━━━━━━━━━━━━━━━━━━━━━━━━━━━━━━━\u001b[0m\u001b[91m╸\u001b[0m \u001b[32m276.5/279.4 kB\u001b[0m \u001b[31m11.3 MB/s\u001b[0m eta \u001b[36m0:00:01\u001b[0m\r\u001b[2K   \u001b[90m━━━━━━━━━━━━━━━━━━━━━━━━━━━━━━━━━━━━━━━━\u001b[0m \u001b[32m279.4/279.4 kB\u001b[0m \u001b[31m5.8 MB/s\u001b[0m eta \u001b[36m0:00:00\u001b[0m\n",
            "\u001b[?25hInstalling collected packages: nba_api\n",
            "Successfully installed nba_api-1.6.1\n"
          ]
        }
      ],
      "source": [
        "pip install nba_api"
      ]
    },
    {
      "cell_type": "code",
      "source": [
        "\n",
        "from nba_api.stats.static import teams\n",
        "\n",
        "nba_teams = teams.get_teams()\n",
        "# Select the dictionary for the Celtics, which contains their team ID\n",
        "nba_teams  = [team for team in nba_teams if team['abbreviation'] == 'BOS'][0]\n",
        "celtics_id = nba_teams['id']\n",
        "\n"
      ],
      "metadata": {
        "colab": {
          "base_uri": "https://localhost:8080/"
        },
        "collapsed": true,
        "id": "4C6eoUrbp6g9",
        "outputId": "c279074e-27cc-4938-ffd1-6d7d9dd7f7e9"
      },
      "execution_count": 17,
      "outputs": [
        {
          "output_type": "execute_result",
          "data": {
            "text/plain": [
              "[{'id': 1610612737,\n",
              "  'full_name': 'Atlanta Hawks',\n",
              "  'abbreviation': 'ATL',\n",
              "  'nickname': 'Hawks',\n",
              "  'city': 'Atlanta',\n",
              "  'state': 'Georgia',\n",
              "  'year_founded': 1949},\n",
              " {'id': 1610612738,\n",
              "  'full_name': 'Boston Celtics',\n",
              "  'abbreviation': 'BOS',\n",
              "  'nickname': 'Celtics',\n",
              "  'city': 'Boston',\n",
              "  'state': 'Massachusetts',\n",
              "  'year_founded': 1946},\n",
              " {'id': 1610612739,\n",
              "  'full_name': 'Cleveland Cavaliers',\n",
              "  'abbreviation': 'CLE',\n",
              "  'nickname': 'Cavaliers',\n",
              "  'city': 'Cleveland',\n",
              "  'state': 'Ohio',\n",
              "  'year_founded': 1970},\n",
              " {'id': 1610612740,\n",
              "  'full_name': 'New Orleans Pelicans',\n",
              "  'abbreviation': 'NOP',\n",
              "  'nickname': 'Pelicans',\n",
              "  'city': 'New Orleans',\n",
              "  'state': 'Louisiana',\n",
              "  'year_founded': 2002},\n",
              " {'id': 1610612741,\n",
              "  'full_name': 'Chicago Bulls',\n",
              "  'abbreviation': 'CHI',\n",
              "  'nickname': 'Bulls',\n",
              "  'city': 'Chicago',\n",
              "  'state': 'Illinois',\n",
              "  'year_founded': 1966},\n",
              " {'id': 1610612742,\n",
              "  'full_name': 'Dallas Mavericks',\n",
              "  'abbreviation': 'DAL',\n",
              "  'nickname': 'Mavericks',\n",
              "  'city': 'Dallas',\n",
              "  'state': 'Texas',\n",
              "  'year_founded': 1980},\n",
              " {'id': 1610612743,\n",
              "  'full_name': 'Denver Nuggets',\n",
              "  'abbreviation': 'DEN',\n",
              "  'nickname': 'Nuggets',\n",
              "  'city': 'Denver',\n",
              "  'state': 'Colorado',\n",
              "  'year_founded': 1976},\n",
              " {'id': 1610612744,\n",
              "  'full_name': 'Golden State Warriors',\n",
              "  'abbreviation': 'GSW',\n",
              "  'nickname': 'Warriors',\n",
              "  'city': 'Golden State',\n",
              "  'state': 'California',\n",
              "  'year_founded': 1946},\n",
              " {'id': 1610612745,\n",
              "  'full_name': 'Houston Rockets',\n",
              "  'abbreviation': 'HOU',\n",
              "  'nickname': 'Rockets',\n",
              "  'city': 'Houston',\n",
              "  'state': 'Texas',\n",
              "  'year_founded': 1967},\n",
              " {'id': 1610612746,\n",
              "  'full_name': 'Los Angeles Clippers',\n",
              "  'abbreviation': 'LAC',\n",
              "  'nickname': 'Clippers',\n",
              "  'city': 'Los Angeles',\n",
              "  'state': 'California',\n",
              "  'year_founded': 1970},\n",
              " {'id': 1610612747,\n",
              "  'full_name': 'Los Angeles Lakers',\n",
              "  'abbreviation': 'LAL',\n",
              "  'nickname': 'Lakers',\n",
              "  'city': 'Los Angeles',\n",
              "  'state': 'California',\n",
              "  'year_founded': 1948},\n",
              " {'id': 1610612748,\n",
              "  'full_name': 'Miami Heat',\n",
              "  'abbreviation': 'MIA',\n",
              "  'nickname': 'Heat',\n",
              "  'city': 'Miami',\n",
              "  'state': 'Florida',\n",
              "  'year_founded': 1988},\n",
              " {'id': 1610612749,\n",
              "  'full_name': 'Milwaukee Bucks',\n",
              "  'abbreviation': 'MIL',\n",
              "  'nickname': 'Bucks',\n",
              "  'city': 'Milwaukee',\n",
              "  'state': 'Wisconsin',\n",
              "  'year_founded': 1968},\n",
              " {'id': 1610612750,\n",
              "  'full_name': 'Minnesota Timberwolves',\n",
              "  'abbreviation': 'MIN',\n",
              "  'nickname': 'Timberwolves',\n",
              "  'city': 'Minnesota',\n",
              "  'state': 'Minnesota',\n",
              "  'year_founded': 1989},\n",
              " {'id': 1610612751,\n",
              "  'full_name': 'Brooklyn Nets',\n",
              "  'abbreviation': 'BKN',\n",
              "  'nickname': 'Nets',\n",
              "  'city': 'Brooklyn',\n",
              "  'state': 'New York',\n",
              "  'year_founded': 1976},\n",
              " {'id': 1610612752,\n",
              "  'full_name': 'New York Knicks',\n",
              "  'abbreviation': 'NYK',\n",
              "  'nickname': 'Knicks',\n",
              "  'city': 'New York',\n",
              "  'state': 'New York',\n",
              "  'year_founded': 1946},\n",
              " {'id': 1610612753,\n",
              "  'full_name': 'Orlando Magic',\n",
              "  'abbreviation': 'ORL',\n",
              "  'nickname': 'Magic',\n",
              "  'city': 'Orlando',\n",
              "  'state': 'Florida',\n",
              "  'year_founded': 1989},\n",
              " {'id': 1610612754,\n",
              "  'full_name': 'Indiana Pacers',\n",
              "  'abbreviation': 'IND',\n",
              "  'nickname': 'Pacers',\n",
              "  'city': 'Indiana',\n",
              "  'state': 'Indiana',\n",
              "  'year_founded': 1976},\n",
              " {'id': 1610612755,\n",
              "  'full_name': 'Philadelphia 76ers',\n",
              "  'abbreviation': 'PHI',\n",
              "  'nickname': '76ers',\n",
              "  'city': 'Philadelphia',\n",
              "  'state': 'Pennsylvania',\n",
              "  'year_founded': 1949},\n",
              " {'id': 1610612756,\n",
              "  'full_name': 'Phoenix Suns',\n",
              "  'abbreviation': 'PHX',\n",
              "  'nickname': 'Suns',\n",
              "  'city': 'Phoenix',\n",
              "  'state': 'Arizona',\n",
              "  'year_founded': 1968},\n",
              " {'id': 1610612757,\n",
              "  'full_name': 'Portland Trail Blazers',\n",
              "  'abbreviation': 'POR',\n",
              "  'nickname': 'Trail Blazers',\n",
              "  'city': 'Portland',\n",
              "  'state': 'Oregon',\n",
              "  'year_founded': 1970},\n",
              " {'id': 1610612758,\n",
              "  'full_name': 'Sacramento Kings',\n",
              "  'abbreviation': 'SAC',\n",
              "  'nickname': 'Kings',\n",
              "  'city': 'Sacramento',\n",
              "  'state': 'California',\n",
              "  'year_founded': 1948},\n",
              " {'id': 1610612759,\n",
              "  'full_name': 'San Antonio Spurs',\n",
              "  'abbreviation': 'SAS',\n",
              "  'nickname': 'Spurs',\n",
              "  'city': 'San Antonio',\n",
              "  'state': 'Texas',\n",
              "  'year_founded': 1976},\n",
              " {'id': 1610612760,\n",
              "  'full_name': 'Oklahoma City Thunder',\n",
              "  'abbreviation': 'OKC',\n",
              "  'nickname': 'Thunder',\n",
              "  'city': 'Oklahoma City',\n",
              "  'state': 'Oklahoma',\n",
              "  'year_founded': 1967},\n",
              " {'id': 1610612761,\n",
              "  'full_name': 'Toronto Raptors',\n",
              "  'abbreviation': 'TOR',\n",
              "  'nickname': 'Raptors',\n",
              "  'city': 'Toronto',\n",
              "  'state': 'Ontario',\n",
              "  'year_founded': 1995},\n",
              " {'id': 1610612762,\n",
              "  'full_name': 'Utah Jazz',\n",
              "  'abbreviation': 'UTA',\n",
              "  'nickname': 'Jazz',\n",
              "  'city': 'Utah',\n",
              "  'state': 'Utah',\n",
              "  'year_founded': 1974},\n",
              " {'id': 1610612763,\n",
              "  'full_name': 'Memphis Grizzlies',\n",
              "  'abbreviation': 'MEM',\n",
              "  'nickname': 'Grizzlies',\n",
              "  'city': 'Memphis',\n",
              "  'state': 'Tennessee',\n",
              "  'year_founded': 1995},\n",
              " {'id': 1610612764,\n",
              "  'full_name': 'Washington Wizards',\n",
              "  'abbreviation': 'WAS',\n",
              "  'nickname': 'Wizards',\n",
              "  'city': 'Washington',\n",
              "  'state': 'District of Columbia',\n",
              "  'year_founded': 1961},\n",
              " {'id': 1610612765,\n",
              "  'full_name': 'Detroit Pistons',\n",
              "  'abbreviation': 'DET',\n",
              "  'nickname': 'Pistons',\n",
              "  'city': 'Detroit',\n",
              "  'state': 'Michigan',\n",
              "  'year_founded': 1948},\n",
              " {'id': 1610612766,\n",
              "  'full_name': 'Charlotte Hornets',\n",
              "  'abbreviation': 'CHA',\n",
              "  'nickname': 'Hornets',\n",
              "  'city': 'Charlotte',\n",
              "  'state': 'North Carolina',\n",
              "  'year_founded': 1988}]"
            ]
          },
          "metadata": {},
          "execution_count": 17
        }
      ]
    },
    {
      "cell_type": "code",
      "source": [
        "\n",
        "from nba_api.stats.endpoints import leaguegamefinder\n",
        "\n",
        "# Query for games where the Celtics were playing\n",
        "gamefinder = leaguegamefinder.LeagueGameFinder(team_id_nullable=all_id)\n",
        "# The first DataFrame of those returned is what we want.\n",
        "games = gamefinder.get_data_frames()[0]\n",
        "games"
      ],
      "metadata": {
        "id": "oQ_dchNLrY2l",
        "colab": {
          "base_uri": "https://localhost:8080/",
          "height": 211
        },
        "outputId": "887f7247-9754-4f91-d0e8-177111356806"
      },
      "execution_count": 13,
      "outputs": [
        {
          "output_type": "error",
          "ename": "NameError",
          "evalue": "name 'all_id' is not defined",
          "traceback": [
            "\u001b[0;31m---------------------------------------------------------------------------\u001b[0m",
            "\u001b[0;31mNameError\u001b[0m                                 Traceback (most recent call last)",
            "\u001b[0;32m<ipython-input-13-e257c34c03bd>\u001b[0m in \u001b[0;36m<cell line: 4>\u001b[0;34m()\u001b[0m\n\u001b[1;32m      2\u001b[0m \u001b[0;34m\u001b[0m\u001b[0m\n\u001b[1;32m      3\u001b[0m \u001b[0;31m# Query for games where the Celtics were playing\u001b[0m\u001b[0;34m\u001b[0m\u001b[0;34m\u001b[0m\u001b[0m\n\u001b[0;32m----> 4\u001b[0;31m \u001b[0mgamefinder\u001b[0m \u001b[0;34m=\u001b[0m \u001b[0mleaguegamefinder\u001b[0m\u001b[0;34m.\u001b[0m\u001b[0mLeagueGameFinder\u001b[0m\u001b[0;34m(\u001b[0m\u001b[0mteam_id_nullable\u001b[0m\u001b[0;34m=\u001b[0m\u001b[0mall_id\u001b[0m\u001b[0;34m)\u001b[0m\u001b[0;34m\u001b[0m\u001b[0;34m\u001b[0m\u001b[0m\n\u001b[0m\u001b[1;32m      5\u001b[0m \u001b[0;31m# The first DataFrame of those returned is what we want.\u001b[0m\u001b[0;34m\u001b[0m\u001b[0;34m\u001b[0m\u001b[0m\n\u001b[1;32m      6\u001b[0m \u001b[0mgames\u001b[0m \u001b[0;34m=\u001b[0m \u001b[0mgamefinder\u001b[0m\u001b[0;34m.\u001b[0m\u001b[0mget_data_frames\u001b[0m\u001b[0;34m(\u001b[0m\u001b[0;34m)\u001b[0m\u001b[0;34m[\u001b[0m\u001b[0;36m0\u001b[0m\u001b[0;34m]\u001b[0m\u001b[0;34m\u001b[0m\u001b[0;34m\u001b[0m\u001b[0m\n",
            "\u001b[0;31mNameError\u001b[0m: name 'all_id' is not defined"
          ]
        }
      ]
    },
    {
      "cell_type": "code",
      "source": [],
      "metadata": {
        "id": "pnSbbCw5yOBu"
      },
      "execution_count": null,
      "outputs": []
    },
    {
      "cell_type": "code",
      "source": [],
      "metadata": {
        "id": "7VMYf9EZy-hM"
      },
      "execution_count": null,
      "outputs": []
    },
    {
      "cell_type": "code",
      "source": [],
      "metadata": {
        "id": "ScONdgd1xs5u"
      },
      "execution_count": null,
      "outputs": []
    }
  ]
}